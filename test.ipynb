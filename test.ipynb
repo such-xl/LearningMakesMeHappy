{
 "cells": [
  {
   "cell_type": "code",
   "execution_count": 20,
   "metadata": {},
   "outputs": [
    {
     "name": "stdout",
     "output_type": "stream",
     "text": [
      "[1 1 3 4 2]\n",
      "[2 3 2 1 4]\n",
      "[0.3692991  0.10345844 0.81281325 0.29984231 0.39696313]\n",
      "[1.6307009  2.79308312 2.81281325 1.89952692 3.20607374]\n",
      "[1 1 3 4 2 2 3 2 1 4]\n",
      "[1 4 3]\n"
     ]
    }
   ],
   "source": [
    "import numpy as np\n",
    "a = np.random.randint(low=1,high=5,size=5)\n",
    "b = np.random.randint(low=1,high=5,size=5)\n",
    "l = np.random.uniform(low=0,high=1,size=5)\n",
    "c = a*l+b*(1-l)\n",
    "print(a)\n",
    "print(b)\n",
    "print(l)\n",
    "print(c)\n",
    "d = np.append(a,b)\n",
    "print(d)\n",
    "print(d[0:2])\n",
    "\n"
   ]
  }
 ],
 "metadata": {
  "kernelspec": {
   "display_name": "ML",
   "language": "python",
   "name": "python3"
  },
  "language_info": {
   "codemirror_mode": {
    "name": "ipython",
    "version": 3
   },
   "file_extension": ".py",
   "mimetype": "text/x-python",
   "name": "python",
   "nbconvert_exporter": "python",
   "pygments_lexer": "ipython3",
   "version": "3.10.11"
  }
 },
 "nbformat": 4,
 "nbformat_minor": 2
}
