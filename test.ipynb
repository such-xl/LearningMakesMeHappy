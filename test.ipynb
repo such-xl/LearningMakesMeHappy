{
 "cells": [
  {
   "cell_type": "code",
   "execution_count": 3,
   "metadata": {},
   "outputs": [
    {
     "name": "stdout",
     "output_type": "stream",
     "text": [
      "[3 1 1 3 1]\n",
      "[1 2 2 3 3]\n",
      "[0.45233512 0.52983118 0.15486748 0.03756113 0.20022644]\n",
      "[1.90467024 1.47016882 1.84513252 3.         2.59954712]\n",
      "[3 1 1 3 1 1 2 2 3 3]\n",
      "[3 1]\n",
      "[1 1 1 1 1]\n",
      "[0.25 0.5  0.25]\n"
     ]
    }
   ],
   "source": [
    "import numpy as np\n",
    "a = np.random.randint(low=1,high=5,size=5)\n",
    "b = np.random.randint(low=1,high=5,size=5)\n",
    "l = np.random.uniform(low=0,high=1,size=5)\n",
    "c = a*l+b*(1-l)\n",
    "print(a)\n",
    "print(b)\n",
    "print(l)\n",
    "print(c)\n",
    "d = np.append(a,b)\n",
    "print(d)\n",
    "print(d[0:2])\n",
    "k = np.random.randint(low=1,high=2,size=5)\n",
    "print(k)\n",
    "g = np.array([5,10,5])\n",
    "g = g/g.sum()\n",
    "print(g)\n",
    "print(np.power(3,2))"
   ]
  }
 ],
 "metadata": {
  "kernelspec": {
   "display_name": "ML",
   "language": "python",
   "name": "python3"
  },
  "language_info": {
   "codemirror_mode": {
    "name": "ipython",
    "version": 3
   },
   "file_extension": ".py",
   "mimetype": "text/x-python",
   "name": "python",
   "nbconvert_exporter": "python",
   "pygments_lexer": "ipython3",
   "version": "3.10.11"
  }
 },
 "nbformat": 4,
 "nbformat_minor": 2
}
