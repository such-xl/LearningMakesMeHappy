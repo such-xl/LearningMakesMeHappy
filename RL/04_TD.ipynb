{
 "cells": [
  {
   "cell_type": "markdown",
   "metadata": {},
   "source": [
    "# https://gymnasium.farama.org/environments/toy_text/cliff_walking/"
   ]
  },
  {
   "cell_type": "code",
   "execution_count": 1,
   "metadata": {},
   "outputs": [],
   "source": [
    "import gymnasium as gym\n",
    "import numpy as np\n",
    "import matplotlib.pyplot as plt\n",
    "env = gym.make('CliffWalking-v0')\n"
   ]
  },
  {
   "cell_type": "code",
   "execution_count": 2,
   "metadata": {},
   "outputs": [],
   "source": [
    "class Sarsa:\n",
    "    def __init__(self,ncol,nrow,epsilon,alpha,gamma,n_action=4) -> None:\n",
    "        self.Q_table = np.zeros((nrow*ncol,n_action)) # 上右下左\n",
    "        self.epsilon = epsilon\n",
    "        self.alpha = alpha \n",
    "        self.gamma = gamma\n",
    "        self.n_action = n_action\n",
    "    def take_action(self,state):\n",
    "        if np.random.random() < self.epsilon:\n",
    "            action = np.random.randint(self.n_action)\n",
    "        else:\n",
    "            action = np.argmax(self.Q_table[state])\n",
    "        return action\n",
    "    def update(self,s0,a0,r,s1,a1):\n",
    "        td_error = r + self.gamma * self.Q_table[s1][a1] - self.Q_table[s0,a0]\n",
    "        self.Q_table[s0][a0] += td_error * self.alpha     "
   ]
  },
  {
   "cell_type": "code",
   "execution_count": null,
   "metadata": {},
   "outputs": [],
   "source": [
    "ncol,nrow,epsilon,alpha,gamma,num_episodes,eposide = 12,4,0.1,.1,.1,500,0\n",
    "#np.random.seed(0)\n",
    "agent = Sarsa(ncol,nrow,epsilon,alpha,gamma)\n",
    "return_list = []  #记录每一条序列的回报\n",
    "while eposide < num_episodes:\n",
    "    done = False\n",
    "    epsilon_return = 0\n",
    "    s = env.reset()[0]\n",
    "    a = agent.take_action(s)\n",
    "    while not done:\n",
    "        s1,r,done,truncated,_ = env.step(a)\n",
    "        a1 = agent.take_action(s1)\n",
    "        agent.update(s,a,r,s1,a1)\n",
    "        s = s1\n",
    "        a = a1\n",
    "        epsilon_return+=r\n",
    "        if done:\n",
    "            print(f'{eposide}:{epsilon_return}')\n",
    "        #env.render()\n",
    "    return_list.append(epsilon_return)\n",
    "    eposide+=1\n",
    "\n",
    "#打印Q表格\n",
    "direct = {\n",
    "    0:'^',\n",
    "    1:'>',\n",
    "    2:'v',\n",
    "    3:'<'\n",
    "}\n",
    "for i in range(nrow):\n",
    "    for j in range(ncol):\n",
    "        index = np.argmax(agent.Q_table[ncol*i+j])\n",
    "        print(direct[index],end=' ')\n",
    "    print()\n",
    "\n",
    "#绘图\n",
    "plt.plot(range(0,eposide),return_list)\n",
    "plt.show()\n",
    "np.save(f'Q_table_{num_episodes}',agent.Q_table)"
   ]
  },
  {
   "cell_type": "code",
   "execution_count": 8,
   "metadata": {},
   "outputs": [],
   "source": [
    "class Nstep_Sarsa(Sarsa):\n",
    "    def __init__(self, ncol, nrow, epsilon, alpha, gamma,n, n_action=4) -> None:\n",
    "        super().__init__(ncol, nrow, epsilon, alpha, gamma, n_action)\n",
    "        self.n = n\n",
    "        self.state_list = []\n",
    "        self.action_list = []\n",
    "        self.reward_list = []\n",
    "    \n",
    "    def update(self, s0, a0, r, s1, a1,done):\n",
    "        self.state_list.append(s0)\n",
    "        self.action_list.append(a0)\n",
    "        self.reward_list.append(r)\n",
    "        if len(self.state_list) == self.n:\n",
    "            G = self.Q_table[s1,a1]\n",
    "            for i in reversed(range(self.n)):\n",
    "                G = self.gamma * G + self.reward_list[i]\n",
    "                if done and i>0:\n",
    "                    s = self.state_list[i]\n",
    "                    a = self.action_list[i]\n",
    "                    self.Q_table[s,a] += self.alpha *(G-self.Q_table[s,a])\n",
    "            s = self.state_list.pop(0)\n",
    "            a = self.action_list.pop(0)\n",
    "            self.reward_list.pop(0)\n",
    "            self.Q_table[s, a] += self.alpha * (G - self.Q_table[s, a])\n",
    "            if done:\n",
    "                self.state_list = []\n",
    "                self.action_list = []\n",
    "                self.reward_list = []\n",
    "\n",
    "\n"
   ]
  },
  {
   "cell_type": "code",
   "execution_count": 9,
   "metadata": {},
   "outputs": [
    {
     "ename": "TypeError",
     "evalue": "'list' object is not callable",
     "output_type": "error",
     "traceback": [
      "\u001b[1;31m---------------------------------------------------------------------------\u001b[0m",
      "\u001b[1;31mTypeError\u001b[0m                                 Traceback (most recent call last)",
      "Cell \u001b[1;32mIn[9], line 13\u001b[0m\n\u001b[0;32m     11\u001b[0m s1,r,done,truncated,_ \u001b[38;5;241m=\u001b[39m env\u001b[38;5;241m.\u001b[39mstep(a)\n\u001b[0;32m     12\u001b[0m a1 \u001b[38;5;241m=\u001b[39m agent\u001b[38;5;241m.\u001b[39mtake_action(s1)\n\u001b[1;32m---> 13\u001b[0m \u001b[43magent\u001b[49m\u001b[38;5;241;43m.\u001b[39;49m\u001b[43mupdate\u001b[49m\u001b[43m(\u001b[49m\u001b[43ms\u001b[49m\u001b[43m,\u001b[49m\u001b[43ma\u001b[49m\u001b[43m,\u001b[49m\u001b[43mr\u001b[49m\u001b[43m,\u001b[49m\u001b[43ms1\u001b[49m\u001b[43m,\u001b[49m\u001b[43ma1\u001b[49m\u001b[43m,\u001b[49m\u001b[43mdone\u001b[49m\u001b[43m)\u001b[49m\n\u001b[0;32m     14\u001b[0m s \u001b[38;5;241m=\u001b[39m s1\n\u001b[0;32m     15\u001b[0m a \u001b[38;5;241m=\u001b[39m a1\n",
      "Cell \u001b[1;32mIn[8], line 11\u001b[0m, in \u001b[0;36mNstep_Sarsa.update\u001b[1;34m(self, s0, a0, r, s1, a1, done)\u001b[0m\n\u001b[0;32m      9\u001b[0m \u001b[38;5;28;01mdef\u001b[39;00m \u001b[38;5;21mupdate\u001b[39m(\u001b[38;5;28mself\u001b[39m, s0, a0, r, s1, a1,done):\n\u001b[0;32m     10\u001b[0m     \u001b[38;5;28mself\u001b[39m\u001b[38;5;241m.\u001b[39mstate_list\u001b[38;5;241m.\u001b[39mappend(s0)\n\u001b[1;32m---> 11\u001b[0m     \u001b[38;5;28;43mself\u001b[39;49m\u001b[38;5;241;43m.\u001b[39;49m\u001b[43maction_list\u001b[49m\u001b[43m(\u001b[49m\u001b[43ma0\u001b[49m\u001b[43m)\u001b[49m\n\u001b[0;32m     12\u001b[0m     \u001b[38;5;28mself\u001b[39m\u001b[38;5;241m.\u001b[39mreward_list(r)\n\u001b[0;32m     13\u001b[0m     \u001b[38;5;28;01mif\u001b[39;00m \u001b[38;5;28mlen\u001b[39m(\u001b[38;5;28mself\u001b[39m\u001b[38;5;241m.\u001b[39mstate_list) \u001b[38;5;241m==\u001b[39m \u001b[38;5;28mself\u001b[39m\u001b[38;5;241m.\u001b[39mn:\n",
      "\u001b[1;31mTypeError\u001b[0m: 'list' object is not callable"
     ]
    }
   ],
   "source": [
    "ncol,nrow,epsilon,alpha,gamma,num_episodes,eposide,n_step = 12,4,0.1,.1,.1,500,0,5\n",
    "#np.random.seed(0)\n",
    "agent = Nstep_Sarsa(ncol,nrow,epsilon,alpha,gamma,n_step)\n",
    "return_list = []  #记录每一条序列的回报\n",
    "while eposide < num_episodes:\n",
    "    done = False\n",
    "    epsilon_return = 0\n",
    "    s = env.reset()[0]\n",
    "    a = agent.take_action(s)\n",
    "    while not done:\n",
    "        s1,r,done,truncated,_ = env.step(a)\n",
    "        a1 = agent.take_action(s1)\n",
    "        agent.update(s,a,r,s1,a1,done)\n",
    "        s = s1\n",
    "        a = a1\n",
    "        epsilon_return+=r\n",
    "        if done:\n",
    "            print(f'{eposide}:{epsilon_return}')\n",
    "        #env.render()\n",
    "    return_list.append(epsilon_return)\n",
    "    eposide+=1\n",
    "\n",
    "#打印Q表格\n",
    "direct = {\n",
    "    0:'^',\n",
    "    1:'>',\n",
    "    2:'v',\n",
    "    3:'<'\n",
    "}\n",
    "for i in range(nrow):\n",
    "    for j in range(ncol):\n",
    "        index = np.argmax(agent.Q_table[ncol*i+j])\n",
    "        print(direct[index],end=' ')\n",
    "    print()\n",
    "\n",
    "#绘图\n",
    "plt.plot(range(0,eposide),return_list)\n",
    "plt.show()\n",
    "np.save(f'Q_table_{num_episodes}',agent.Q_table)"
   ]
  }
 ],
 "metadata": {
  "kernelspec": {
   "display_name": "ML",
   "language": "python",
   "name": "python3"
  },
  "language_info": {
   "codemirror_mode": {
    "name": "ipython",
    "version": 3
   },
   "file_extension": ".py",
   "mimetype": "text/x-python",
   "name": "python",
   "nbconvert_exporter": "python",
   "pygments_lexer": "ipython3",
   "version": "3.10.11"
  }
 },
 "nbformat": 4,
 "nbformat_minor": 2
}
